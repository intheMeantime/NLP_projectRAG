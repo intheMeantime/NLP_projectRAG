{
 "cells": [
  {
   "cell_type": "markdown",
   "metadata": {
    "id": "KhMCta6KU4Yv"
   },
   "source": [
    "<a target=\"_blank\" href=\"https://colab.research.google.com/github/UpstageAI/cookbook/blob/main/cookbooks/upstage/Solar-Full-Stack LLM-101/05_3_OracleDB.ipynb\">\n",
    "<img src=\"https://colab.research.google.com/assets/colab-badge.svg\" alt=\"Open In Colab\"/>\n",
    "</a>"
   ]
  },
  {
   "cell_type": "markdown",
   "metadata": {
    "id": "TG6F1kAYU4Yx"
   },
   "source": [
    "# Seoul.W dataset"
   ]
  },
  {
   "cell_type": "code",
   "execution_count": 1,
   "metadata": {
    "id": "vnLzEVF8CysE"
   },
   "outputs": [],
   "source": [
    "# set parameters\n",
    "\n",
    "file = open(\"info/api.txt\", \"r\")\n",
    "api_key = file.read()\n",
    "file.close()\n",
    "\n",
    "file = open(\"info/datapath.txt\", \"r\")\n",
    "data_path = file.read()\n",
    "file.close()\n",
    "\n",
    "file = open(\"info/resultspath.txt\", \"r\")\n",
    "results_path = file.read()\n",
    "file.close()"
   ]
  },
  {
   "cell_type": "code",
   "execution_count": 2,
   "metadata": {},
   "outputs": [],
   "source": [
    "from langchain_upstage import UpstageEmbeddings\n",
    "\n",
    "# 쿼리 전용 임베딩 모델\n",
    "#query_embeddings = UpstageEmbeddings(api_key=api_key, model=\"solar-embedding-1-large-query\")\n",
    "\n",
    "# 문장 전용 임베딩 모델\n",
    "passage_embeddings = UpstageEmbeddings(api_key=api_key, model=\"solar-embedding-1-large-passage\")"
   ]
  },
  {
   "cell_type": "markdown",
   "metadata": {},
   "source": [
    "## 1. build DB"
   ]
  },
  {
   "cell_type": "code",
   "execution_count": 3,
   "metadata": {
    "colab": {
     "base_uri": "https://localhost:8080/"
    },
    "id": "WmCwvoB1zH3H",
    "outputId": "edee142c-257a-48ce-8d3b-4e2fbfa4b081"
   },
   "outputs": [
    {
     "name": "stderr",
     "output_type": "stream",
     "text": [
      "/home/aix7101/anaconda3/envs/yoonnlp/lib/python3.10/site-packages/langchain_upstage/layout_analysis.py:135: UserWarning: UpstageLayoutAnalysisLoader is deprecated.Please use langchain_upstage.document_parse.UpstageDocumentParseLoader instead.\n",
      "  warnings.warn(\n",
      "/home/aix7101/anaconda3/envs/yoonnlp/lib/python3.10/site-packages/langchain_upstage/layout_analysis_parsers.py:160: UserWarning: UpstageLayoutAnalysisParser is deprecated.Please use langchain_upstage.document_parse_parsers.UpstageDocumentParseParser instead.\n",
      "  warnings.warn(\n"
     ]
    }
   ],
   "source": [
    "from langchain_upstage import UpstageLayoutAnalysisLoader\n",
    "import os\n",
    "\n",
    "UPSTAGE_API_KEY = api_key\n",
    "\n",
    "layzer = UpstageLayoutAnalysisLoader(api_key=UPSTAGE_API_KEY,file_path=os.path.join(data_path, 'SeoulW.pdf'), output_type=\"text\")\n",
    "\n",
    "docs = layzer.load()  # or layzer.lazy_load()"
   ]
  },
  {
   "cell_type": "markdown",
   "metadata": {},
   "source": [
    "## 2. Text Split"
   ]
  },
  {
   "cell_type": "code",
   "execution_count": 11,
   "metadata": {
    "colab": {
     "base_uri": "https://localhost:8080/"
    },
    "id": "HzSLZ0UUzIRs",
    "outputId": "775ed2fc-56b5-4144-e06c-5160a260f00d"
   },
   "outputs": [
    {
     "name": "stdout",
     "output_type": "stream",
     "text": [
      "Splits: 3\n"
     ]
    }
   ],
   "source": [
    "from langchain_text_splitters import (\n",
    "    Language,\n",
    "    RecursiveCharacterTextSplitter,\n",
    ")\n",
    "\n",
    "chunk_size, chunk_overlap = 6000, 600\n",
    "\n",
    "# 2. Split\n",
    "text_splitter = RecursiveCharacterTextSplitter.from_language(\n",
    "    chunk_size=chunk_size, chunk_overlap=chunk_overlap, language=Language.HTML\n",
    ")\n",
    "splits = text_splitter.split_documents(docs)\n",
    "print(\"Splits:\", len(splits))"
   ]
  },
  {
   "cell_type": "code",
   "execution_count": 12,
   "metadata": {
    "colab": {
     "base_uri": "https://localhost:8080/"
    },
    "id": "qsRe-ivuzKeJ",
    "outputId": "54c3286c-8b48-4a28-8423-6b936e54746b"
   },
   "outputs": [
    {
     "name": "stdout",
     "output_type": "stream",
     "text": [
      "page_content='서울여자대학교 학칙제 1 장 총 칙제1조 (목적)본 대학은 대한민국의 교육이념과 기독교 정신을 바탕으로 정보화 사회와 고도의 산업기술사회에 대비할 수 있는 학문과 기술을 습득하고, 지\n",
      "도적 인격을 도야하여, 국가와 인류사회 발전에 공헌할 수 있는 지ᆞ덕ᆞ술을 갖춘 여성지도자를 양성하는데 그 목적이 있다.제2조 (명칭)본 대학교는 서울여자대학교라 부른다.제3조 (편제)① 본 대학교에 교양대학, 인문대학, 사회과학대학, 과학기술융합대학, 미래산업융합대학, 아트앤디자인스쿨, 자유전공학부, 글로벌통상학부,\n",
      "대학원, 교육대학원, 휴먼서비스대학원을 둔다. 글로벌통상학부는 외국인 유학생을 대상으로 하는 정원외 전담학과로 운영한다. <개정 2024.\n",
      "3. 27.>\n",
      "② 대학원, 교육대학원, 휴먼서비스대학원의 학칙과 시행세칙은 따로 정한다.제4조 (학생의 정원)① 학생의 정원은 입학정원을 기준으로 하며 모집단위별 입학정원은 <별표1> 과 같다.\n",
      "② 모집 단위별 전공결정에 관한 사항은 총장이 따로 정한다.제 2 장 부속기관 부속교육기관 부설연구기관제5조 (부속시설)① 대학교에는 다음의 부속시설을 둘 수 있다.1. 부속기관：도서관, 기숙사, 박물관, 학보사, 방송국, 대학교회, 에코캠퍼스추진사업단\n",
      "2. 부속교육기관：정보보호 영재교육원, 한국생태학교\n",
      "3. <삭제>\n",
      "4. 부설연구기관：바롬인성교육연구소, 인문과학연구소, 사회과학연구소, 자연과학연구소, 미래산업융합연구소, 조형연구소, 여성연구소,\n",
      "R&D연구소, 아동연구원\n",
      "② 부속시설에 각각 장을 두며 부속시설의 장은 조교수 이상의 교원으로 겸보한다.\n",
      "③ 부속시설의 장은 총장의 명을 받아 시설에 관한 사무를 관장하고 소속 교직원을 지휘, 감독한다.\n",
      "④ 부속시설에 필요한 부서를 둘 수 있으며 부서장은 일반직 또는 교원으로 보하되 그 분장업무는 따로 규칙으로 정한다.\n",
      "⑤ 제1항 제4호의 부설연구기관에 별도의 특정연구센터를 둔다. 특정연구센터의 설치, 운영에 관한 사항은 본 대학교 「부설연구소의 설치 및\n",
      "운영에 관한 규정」에 따른다.\n",
      "⑥ 제1항 4호의 R&D연구소에 R&D 연구센터를 둔다. R&D연구소 및 R&D연구센터의 설치·운영에 관한 사항은 본대학교 「부설연구소의 설치\n",
      "및 운영에 관한 규정」에 따른다.제6조 (산학협력단)① 본교에 산업교육을 진흥하고 산학협력을 촉진하기 위하여 ‘산업교육진흥 및 산학연협력촉진에 관한 법률'에 의거한 산학협력단을 설치한다.\n",
      "<개정 2024. 3. 27.>\n",
      "② 산학협력단 운영에 관한 사항은 총장이 따로 정한다.제 3 장 수업연한과 재학연한제7조 (수업연한과 재학연한)① 본 대학교의 수업연한은 4년으로 하고 재학연한은 제한을 두지 않는다.\n",
      "② 성적이 특히 우수하여 소정의 과정을 조기 이수한 자에 대하여는 수업연한을 1년(2학기)범위 내에서 단축할 수 있다.\n",
      "③ <삭제>\n",
      "④ 학·석사연계과정 이수자로 선발된 학생은 학위수여 요건을 충족한 경우 수업연한을 1학기 단축할 수 있다.제 4 장 학년도, 학기, 수업일수 및 휴업일24. 11. 28. 오후 8:43제8조 (학년도와 학기)① 학년도는 3월1일부터 다음해 2월 말일까지로 한다.\n",
      "② 학년도는 년 2학기로 나누며 학기는 다음과 같이 한다.\n",
      "제1학기：3월 1일부터 8월 31일까지\n",
      "제2학기：9월 1일부터 다음 해 2월 말일까지\n",
      "단, 2학기는 2주를 초과하지 않는 범위 내에서 학기 개시일 전에 개강할 수 있다.\n",
      "계절학기 :필요에 따라 계절학기를 개설할 수 있으며, 계절학기에 필요한 사항은 총장이 따로 정한다.\n",
      "③ 제2항에도 불구하고 교육상 필요에 따라 전공, 학년 또는 학위과정별로 학기를 달리 정하여 운영할 수 있으며, 그 운영에 관한 사항은 총장\n",
      "이 따로 정한다.제9조 (수업일수)① 수업일수는 매 학년 30주 이상(매 학기 15주 이상)으로 한다.\n",
      "② 총장은 천재지변 기타 교육과정 운영상 부득이한 사유로 1항의 규정에 의한 수업일수를 충족시킬 수 없는 경우에는 매 학년도 2주의 범위\n",
      "내에서 수업일수를 감축 할 수 있다.\n",
      "③ 제2항에도 불구하고 교육과정 운영상 필요할 경우 제26조의 학점당 수업시간을 준수하며 교과목 단위로 수업일수를 달리 정하여 운영할 수\n",
      "있으며, 이에 관한 세부사항은 총장이 따로 정한다.제10조 (휴업일)① 정기 휴업일은 다음과 같다.1. 여름방학\n",
      "2. 겨울방학\n",
      "3. 일요일\n",
      "4. 개교기념일\n",
      "5. 기타 국정 공휴일\n",
      "② 방학기간의 변경 및 임시휴일은 필요에 따라 총장이 정한다.\n",
      "③ 휴업일이라도 필요할 때에는 강의, 실험 및 실습 등을 할 수 있다.제 5 장 입 학제11조 (입학시기)입학을 허가하는 시기는 매학기 별로 한다.제11조의2 (입학인원)① 입학인원은 고등교육법 등 관련법령이 정하는 범위에서 당해 입학학기 개시일이 속하는 학년도의 모집단위별 입학정원으로 한다.\n",
      "② 위 1항의 규정에도 불구하고, 고등교육법시행령 제29조 제2항에 해당하는 자의 경우에는 그 정원이 따로 있는 것으로 본다.1. <삭제>\n",
      "2. <삭제>\n",
      "3. <삭제>\n",
      "4. <삭제>\n",
      "5. <삭제>\n",
      "6. <삭제>\n",
      "7. <삭제>제12조 (입학자격)본 대학교 제1학년에 입학할 수 있는 자는 다음 각 호의 1에 해당하는 여성이어야 한다.1. 고등학교를 졸업한 자\n",
      "2. 법령에 의하여 이와 동등이상의 학력이 있다고 인정된 자제13조 (편입학자격)① 본 대학교에 일반 편입학 할 수 있는 자는 대학의 각기 해당 학년 수료자, 전문대학을 졸업한 자, 또는 법령에 의하여 이와 동등이상의 학력\n",
      "이 있다고 인정된 자라야 하며, 제3학년에 편입할 수 있다.\n",
      "② 학사 편입학은 학사학위 취득(예정)자 또는 법령에 의하여 이와 동등 이상의 학력이 있다고 인정된 자라야 하며, 제3학년에 편입할 수 있다.\n",
      "③ 기타 편입학 자격은 교육부 지침을 따른다.24. 11. 28. 오후 8:43제14조 (재입학)① 자퇴 또는 제적된 자가 재입학을 지원할 경우 모집단위별 학생정원을 포함한 학생정원(이하“총정원”이라 한다.)의 범위 내에서 이를 허가할\n",
      "수 있다.\n",
      "② <삭제>\n",
      "③ 학생활동과 관련하여 제적된 자가 재입학을 원할 경우 소명자료를 제출 받아 정원외로 이를 허가할 수 있다.\n",
      "④ 재입학에 관한 세부사항은 따로 정한다.제15조 (입학지원 서류와 전형료)① 본 대학교에 입학을 희망하는 자는 입학원서와 전형을 위한 자료를 제출하여야 한다.\n",
      "② 입학원서 제출시 소정의 전형료를 납부하여야 한다.\n",
      "③ 이미 제출한 서류와 전형료는 반환하지 아니한다. 단, 고등교육법 제34조의4 제4항 또는 제5항에 해당하는 경우 전형료를 반환하여야 한\n",
      "다.제16조 (입학전형)① 입학전형은 일반전형과 특별전형으로 나누어 실시한다.\n",
      "② 신입생 선발은 다음 각 호의 1에 해당하는 전형자료를 다양하게 선택하여 활용한다.1. 학교생활기록부\n",
      "2. 대학수학능력시험성적\n",
      "3. 대학별고사성적 (삭제)\n",
      "4. 지원자 제출자료 (삭제)\n",
      "5. <삭제>\n",
      "6. 추천서(학교장 추천서, 기타활동과 관련된 인사의 추천서)\n",
      "7. 기타 총장이 전형에 필요하다고 인정하는 자료③ 편입학의 경우도 제3호 및 제7호에 준한다.\n",
      "④ 기타 입학전형의 주요사항은 대학입학전형관리위원회에서 심의 결정한다.제17조 (입학허가 및 취소)① 입학이 허가된 자는 납입금 납부 외에 제반 등록 절차를 이행하여야 한다.\n",
      "② 허가 없이 소정의 기일 내에 전항의 절차를 이행하지 않을 때에는 입학 허가를 취소한다.\n",
      "③ 입학이 허가된 자 중 부정한 방법으로 합격한 경우는 입학 이후라도 합격 및 입학을 모두 취소한다.제17조의2 (위원회설치)① 대학입학의 전형제도의 개발 및 주요 사항을 심의하기 위하여 입학처에 대학입학전형관리위원회를 설치, 운영한다.\n",
      "② 대학입학 전형의 사전ᆞ중간ᆞ사후 자체감사 실시를 위한 대학입학전형공정관리위원회를 설치, 운영한다.\n",
      "③ 대학입학전형관리위원회 및 대학입학전형공정관리위원회의 구성, 기능 및 운영에 관한 사항은 총장이 따로 정한다.제18조 (보증인)<삭제>제19조 (전과)① 전과는 입학당시의 소속 모집단위를 변경하는 것을 의미하며 입학정원의 100% 범위 내에서 2, 3학년 매학기 개시 전에 허가한다.\n",
      "② <삭제>\n",
      "③ 전과에 관한 세부사항은 따로 정한다.제20조 (등록과 수강신청)① 학생은 매 학기초 소정 기일 내에 소정 절차에 의한 등록을 완료하여야한다. 등록은 수강신청과 소정의 등록금을 납부함으로써 완료된다.\n",
      "② 학생은 수강신청기간 내에 수강할 교과목을 소속 학부장, 학과장 및 전공주임교수의 지도를 받아 신청하며, 총장의 승인을 받아야 한다.\n",
      "③ 일단 수강 신청 완료된 교과목은 교무처장의 허가 없이 취소 또는 변경할 수 없다.제20조의2 (장애학생 학점등록)① 총장이 인정하는 장애학생에 대하여는 학점등록을 허가하고 신청학점에 해당하는 등록금을 납부하도록 할 수 있다.\n",
      "② 학점등록에 관한 구체적인 사항은 총장이 따로 정한다.\n",
      "③ 제1항에 의하여 등록한 장애학생의 재학연한은 제한하지 아니한다.제 6 장 휴학, 자퇴 및 제적24. 11. 28. 오후 8:43제21조 (휴학)① 질병 또는 기타 부득이한 사정으로 인하여 4주일 이상 수강할 수 없을 때에는 휴학원서를 제출하여 지도교수 또는 학과장(전공주임)의 동의\n",
      "와 총장의 허가를 얻어 휴학할 수 있다.\n",
      "② 휴학기간은 2개학기를 원칙으로 하되 희망에 따라 1개학기를 휴학할 수 있다. 단, 군입대 휴학은 예외로 한다.\n",
      "③ 임신·출산·육아·창업·군입대 휴학을 제외한 휴학기간은 재학 중 통산 6개 학기를 초과할 수 없다.제22조 (복학)휴학한 자는 그 기간 만료로써 복학한다. 그러나 그 기간 전이라도 총장의 허가를 얻어 복학할 수 있다.제23조 (자퇴)자퇴를 하고자 하는 자는 보호자가 연서한 자퇴원서를 학사지원팀에 제출하여 총장의 허가를 받아야 한다.제24조 (제적)학생으로서 다음 각호의 1에 해당할 때에 총장이 이를 제적한다.1. 휴학기간 만료 후 복학하지 아니한 자\n",
      "2. 소정 기간 내에 등록을 완료하지 못한 자\n",
      "3. <삭제>\n",
      "4. <삭제>제 7 장 교과의 이수제25조 (교과목의 구분)① 본 대학교의 교과는 교양과목, 학부공통과목, 전공과목, 교직과목, 평생교육사과목, 일반선택과목으로 하고 교양과목, 학부공통과목 및 전공\n",
      "과목은 다시 필수 과목과 선택과목으로 나눈다.\n",
      "② 교과과정은 각 과정별 관련 위원회(교과ᆞ교육과정위원회, 교양교육위원회, 교원양성위원회)의 심의를 거쳐 총장이 따로 정한다.제26조 (수업과 학점)① 교과과정의 이수단위는 학점으로 하고, 학점은 1학기 15시간 이상의 수업을 1학점으로 한다.\n",
      "② 수업은 교과 운영에 필요한 경우 야간수업, 계절수업, 방송·정보통신 매체 등을 활용한 원격수업 및 현장실습수업 등의 방법으로 할 수 있다.\n",
      "<신설 2023. 4. 17.>제27조 (졸업학점)졸업에 필요한 학점은 130학점 이상 이수하여야 한다.제28조 (부전공과 복수전공)① 제1전공 외에 부전공을 원하는 자는 해당학과(전공)에서 21학점 이상을 이수하여야 한다.\n",
      "② 복수전공을 원하는 자는 제1전공 이수학점과 동일 이상의 학점을 취득하여야 하며, 다음 각호와 같이 이수할 수 있다.1. 일반전공: 제1전공 외 다른 학부·학과·전공의 교육과정을 이수\n",
      "2. 연계융합전공: 3개 이상의 전공의 교육과정을 연계한 융복합 교육과정을 이수\n",
      "3. 학생설계전공: 학생이 교육과정을 설계하여 총장의 승인을 받은 교육과정을 이수③ 제1항과 제2항에 관한 세칙은 총장이 따로 정한다.제29조 (개설교과목)① 매 학기 개설할 교과목과 강의 시간표는 해당학기 수업개시 전에 총장이 공고한다.\n",
      "② 이수하고자 하는 학생수가 일정수 미만일 때에는 해당 교과목을 개설하지 않을 수도 있다.제30조 (시험)각 교과목에 대하여 중간시험, 학기말시험 및 그 외의 시험을 실시할 수 있다.제31조 (추가시험)① 질병, 기타 부득이한 사정으로 정기 시험에 응시할 수 없는 학생은 사유서 및 진단서를 첨부하여 교무처장의 승인을 얻어 추가 시험에 응할\n",
      "수 있다.\n",
      "② 추가 시험의 경우 학기의 최종 성적은 B+를 초과할 수 없다. 단, 천재지변, 법정전염병 발생, 그 밖의 기타 이에 준하는 사정이 있는 경우 교\n",
      "무처장의 승인을 거쳐 예외로 처리할 수 있다.제32조 (출석)각 교과목 수업시간 3분의 1을 초과하여 결석한 자는 해당 교과목의 학점을 F로 처리한다. 단, 학생의 졸업 전 취업과 관련한 사항은 예외로 할\n",
      "수 있다.24. 11. 28. 오후 8:43제33조 (성적평가)① 학업성적은 각' metadata={'total_pages': 9}\n"
     ]
    },
    {
     "data": {
      "text/plain": [
       "6000"
      ]
     },
     "execution_count": 12,
     "metadata": {},
     "output_type": "execute_result"
    }
   ],
   "source": [
    "print(splits[0])\n",
    "len(splits[0].page_content)"
   ]
  },
  {
   "cell_type": "code",
   "execution_count": 13,
   "metadata": {},
   "outputs": [],
   "source": [
    "chunk = []\n",
    "for index in range(0,len(splits)) : # context 받아오기\n",
    "    chunk.append(splits[index].page_content)\n",
    "\n",
    "embedded_documents = passage_embeddings.embed_documents(chunk)"
   ]
  },
  {
   "cell_type": "code",
   "execution_count": 14,
   "metadata": {},
   "outputs": [],
   "source": [
    "import numpy as np\n",
    "np.save(data_path+f'topic_is/topic_is_ewha', np.array(chunk[0]))\n",
    "np.save(data_path+f'topic_is/topic_is_ewha_embed', np.array(embedded_documents[0]))"
   ]
  },
  {
   "cell_type": "code",
   "execution_count": null,
   "metadata": {},
   "outputs": [],
   "source": []
  }
 ],
 "metadata": {
  "colab": {
   "provenance": []
  },
  "kernelspec": {
   "display_name": "yoonnlp",
   "language": "python",
   "name": "python3"
  },
  "language_info": {
   "codemirror_mode": {
    "name": "ipython",
    "version": 3
   },
   "file_extension": ".py",
   "mimetype": "text/x-python",
   "name": "python",
   "nbconvert_exporter": "python",
   "pygments_lexer": "ipython3",
   "version": "3.10.15"
  }
 },
 "nbformat": 4,
 "nbformat_minor": 0
}

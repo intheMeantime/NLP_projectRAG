{
 "cells": [
  {
   "cell_type": "code",
   "execution_count": null,
   "metadata": {},
   "outputs": [],
   "source": [
    "from datasets import load_dataset\n",
    "\n",
    "#ethics_co= load_dataset(\"hendrycks/ethics\", \"commonsense\") # 0이면 긍정적, 1이면 부정적 (얘는 윤리철학 측면에서 크게 중요해보이지 않아서 사용 x)\n",
    "ethics_de= load_dataset(\"hendrycks/ethics\", \"deontology\") # 1이 타당 (senario와 excuse 같은 행끼리 합쳐)\n",
    "ethics_ju= load_dataset(\"hendrycks/ethics\", \"justice\") # 1이 타당한 맥락 (senario만 사용)\n",
    "#ethics_ut= load_dataset(\"hendrycks/ethics\", \"utilitarianism\") # 이분법테스트 x , 선호도에 따른 분류 (이 데이터는 사용 x)\n",
    "ethics_vi= load_dataset(\"hendrycks/ethics\", \"virtue\") # 0이 악덕, 1이 덕 같긴 한데 애매해보임 (정제할 땐 레이블 무관 전부)"
   ]
  },
  {
   "cell_type": "code",
   "execution_count": 54,
   "metadata": {},
   "outputs": [],
   "source": [
    "deontology = [] # 0이면 타당 x, 1이면 타당\n",
    "settypes = ['train', 'validation', 'test']\n",
    "\n",
    "for settype in settypes : \n",
    "    for idx in range(len(ethics_de[settype])) : \n",
    "        if ethics_de[settype][idx]['label'] == 0 : continue\n",
    "        \n",
    "        tmp = []\n",
    "        tmp.append(ethics_de[settype][idx]['scenario'])\n",
    "        tmp.append(ethics_de[settype][idx]['excuse'])\n",
    "        tmp = ' '.join(tmp)\n",
    "        deontology.append(tmp)\n"
   ]
  },
  {
   "cell_type": "code",
   "execution_count": 55,
   "metadata": {},
   "outputs": [
    {
     "data": {
      "text/plain": [
       "13339"
      ]
     },
     "execution_count": 55,
     "metadata": {},
     "output_type": "execute_result"
    }
   ],
   "source": [
    "len(deontology)"
   ]
  },
  {
   "cell_type": "code",
   "execution_count": 56,
   "metadata": {},
   "outputs": [],
   "source": [
    "justice = [] # 1이면 타당\n",
    "settypes = ['train', 'validation', 'test']\n",
    "\n",
    "for settype in settypes : \n",
    "    for idx in range(len(ethics_ju[settype])) : \n",
    "        if ethics_ju[settype][idx]['label'] == 0 : continue\n",
    "        justice.append(ethics_ju[settype][idx]['scenario'])\n",
    "\n"
   ]
  },
  {
   "cell_type": "code",
   "execution_count": 57,
   "metadata": {},
   "outputs": [
    {
     "data": {
      "text/plain": [
       "14234"
      ]
     },
     "execution_count": 57,
     "metadata": {},
     "output_type": "execute_result"
    }
   ],
   "source": [
    "len(justice)"
   ]
  },
  {
   "cell_type": "code",
   "execution_count": 58,
   "metadata": {},
   "outputs": [],
   "source": [
    "virtue = [] # 1이면 타당\n",
    "settypes = ['train', 'validation', 'test']\n",
    "\n",
    "for settype in settypes : \n",
    "    for idx in range(len(ethics_vi[settype])) : \n",
    "        if ethics_vi[settype][idx]['label'] == 0 : continue\n",
    "        \n",
    "        tmp = []\n",
    "        tmp.append(ethics_vi[settype][idx]['scenario'])\n",
    "        tmp = tmp[0].replace('[SEP]', '==')\n",
    "        virtue.append(tmp)\n"
   ]
  },
  {
   "cell_type": "code",
   "execution_count": 59,
   "metadata": {},
   "outputs": [
    {
     "data": {
      "text/plain": [
       "4366"
      ]
     },
     "execution_count": 59,
     "metadata": {},
     "output_type": "execute_result"
    }
   ],
   "source": [
    "len(virtue)"
   ]
  },
  {
   "cell_type": "code",
   "execution_count": null,
   "metadata": {},
   "outputs": [],
   "source": []
  },
  {
   "cell_type": "code",
   "execution_count": null,
   "metadata": {},
   "outputs": [],
   "source": []
  }
 ],
 "metadata": {
  "kernelspec": {
   "display_name": "yoonnlp",
   "language": "python",
   "name": "python3"
  },
  "language_info": {
   "codemirror_mode": {
    "name": "ipython",
    "version": 3
   },
   "file_extension": ".py",
   "mimetype": "text/x-python",
   "name": "python",
   "nbconvert_exporter": "python",
   "pygments_lexer": "ipython3",
   "version": "3.10.15"
  }
 },
 "nbformat": 4,
 "nbformat_minor": 2
}

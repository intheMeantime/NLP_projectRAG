{
 "cells": [
  {
   "cell_type": "markdown",
   "metadata": {
    "id": "KhMCta6KU4Yv"
   },
   "source": [
    "<a target=\"_blank\" href=\"https://colab.research.google.com/github/UpstageAI/cookbook/blob/main/cookbooks/upstage/Solar-Full-Stack LLM-101/05_3_OracleDB.ipynb\">\n",
    "<img src=\"https://colab.research.google.com/assets/colab-badge.svg\" alt=\"Open In Colab\"/>\n",
    "</a>"
   ]
  },
  {
   "cell_type": "markdown",
   "metadata": {
    "id": "TG6F1kAYU4Yx"
   },
   "source": [
    "# topic is (mmlu)"
   ]
  },
  {
   "cell_type": "code",
   "execution_count": 17,
   "metadata": {
    "id": "vnLzEVF8CysE"
   },
   "outputs": [],
   "source": [
    "# set parameters\n",
    "\n",
    "file = open(\"info/api.txt\", \"r\")\n",
    "api_key = file.read()\n",
    "file.close()\n",
    "\n",
    "file = open(\"info/datapath.txt\", \"r\")\n",
    "data_path = file.read()\n",
    "file.close()\n",
    "\n",
    "file = open(\"info/resultspath.txt\", \"r\")\n",
    "results_path = file.read()\n",
    "file.close()"
   ]
  },
  {
   "cell_type": "code",
   "execution_count": 18,
   "metadata": {},
   "outputs": [],
   "source": [
    "from langchain_upstage import UpstageEmbeddings\n",
    "\n",
    "# 쿼리 전용 임베딩 모델\n",
    "#query_embeddings = UpstageEmbeddings(api_key=api_key, model=\"solar-embedding-1-large-query\")\n",
    "\n",
    "# 문장 전용 임베딩 모델\n",
    "passage_embeddings = UpstageEmbeddings(api_key=api_key, model=\"solar-embedding-1-large-passage\")"
   ]
  },
  {
   "cell_type": "code",
   "execution_count": null,
   "metadata": {},
   "outputs": [],
   "source": []
  },
  {
   "cell_type": "markdown",
   "metadata": {},
   "source": [
    "# _-----------------------"
   ]
  },
  {
   "cell_type": "code",
   "execution_count": null,
   "metadata": {},
   "outputs": [],
   "source": [
    "topic = ['philo', 'law', 'busin', 'psycho', 'his' ]\n",
    "chunk = [\"The paradox of moral relativism lies in its inherent contradiction: to assert that all moral perspectives are equally valid, one must presuppose a universal moral principle that validates such equality—an act which negates relativism itself. Similarly, in religious philosophy, the concept of divine omnipotence raises a question of logical consistency: if an omnipotent being can do anything, can it create a task it cannot accomplish? Such dilemmas challenge the foundations of logic, yet simultaneously affirm the necessity of its structure. Ultimately, in both morality and theology, the limits of human reason intersect with the infinite, revealing the paradoxical beauty of philosophical inquiry. Friedrich Nietzsche : Morality is a construct of human will and culture, with no universal objective standard ('God is dead, and we have killed him' symbolizes the rejection of absolute moral truths). Thomas Aquinas : Divine omnipotence does not entail the power to do the logically impossible; God’s power aligns with reason and truth. Gottfried Wilhelm Leibniz:The existence of evil is reconcilable with a benevolent God because this world is 'the best of all possible worlds.' Logical fallacies refer to errors in reasoning that lead to incorrect or irrational conclusions. the existence of natural numbers (∃x N(x)), all natural numbers are positive integers (∀x P(x)), and 2 is a natural number (N(2)) to explore reasoning involving both existential and universal quantification\",\n",
    "         \"Law is the study of legal systems and principles designed to maintain societal order and protect individual rights. It encompasses various domains like criminal law (defining crimes and punishments), civil law (resolving disputes between individuals), and public law (regulating relationships between the state and individuals). If an employee is wrongfully terminated, they can file a lawsuit citing labor law (public law) to protect their rights. International law governs relationships between nations or international actors. It covers sovereignty, territory, war, and peace, relying on treaties and customary international law. The 1982 UN Convention on the Law of the Sea established Exclusive Economic Zones (EEZs) for countries to control marine resources. If one nation violates another’s EEZ, it can lead to disputes resolved by bodies like the International Court of Justice (ICJ). Legal Principle: Self-defense under criminal law is permissible if the use of force was necessary to prevent an unlawful attack. The necessity and extent of self-defense depend on the circumstances. Ruling: The court will assess whether C’s claim of self-defense is valid, and if the force used was excessive, C may be convicted. Article 23 of the Constitution guarantees the protection of property rights, stating that any restriction must serve a public purpose and provide adequate compensation.\",\n",
    "         \"Business Administration is the study of planning, organizing, directing, and controlling resources (human, physical, and financial) to achieve organizational goals efficiently. Key areas include strategic management, operations, financial management, and human resource management. Imagine a company launches a startup with a capital of $1 million. It allocates $500,000 for product development, $200,000 for marketing, and $300,000 for operating costs, aiming for $2 million in revenue in the first year. Business administration focuses on designing the optimal strategy for such resource allocation and goal achievement. Marketing involves analyzing markets and planning the product, price, place, and promotion (4P strategy) to fulfill customer needs and maximize business value. Assume Brand A launches a smartwatch targeting consumers aged 25–35. Market research sets the average price at $300. The company invests $100,000 in a six-month social media campaign, aiming to reach 500,000 users and sell 10,000 units (generating $3 million in revenue). Throughout the campaign, customer data is analyzed to optimize the strategy, targeting an ROI of 200%. Patagonia donates 1% of its revenue to environmental organizations and invests in sustainable production practices. Apple enforces strict child labor standards in its supply chain and prioritizes ethical compliance when contracting suppliers. Unilever avoids exaggerated claims in advertising and invests in developing healthier products.\",\n",
    "         \"Cognitive psychology studies mental processes like thinking, memory, learning, and problem-solving. Information Processing Theory, Working Memory, Selective Attention. Humans process external stimuli and make decisions based on this information. For instance, the working memory model suggests that humans can hold 7±2 pieces of information in short-term memory at a time. Developmental psychology focuses on the psychological, emotional, and physical changes across the lifespan. Cognitive Development, Attachment Theory, Lifespan Stages. According to Jean Piaget’s cognitive development theory, children progress through four stages: sensorimotor, preoperational, concrete operational, and formal operational. Social psychology examines how individual behavior is influenced by others and social environments. Conformity, Stereotype, Social Facilitation. Milgram’s obedience experiment revealed how easily people obey authority. For instance, 65% of participants followed unethical orders to administer electric shocks. Biological psychology explores how the brain, nervous system, and hormones influence behavior and emotions. Neurotransmitters, Synaptic Plasticity, Amygdala. Dopamine is associated with the brain’s reward system, and excessive activation can lead to addictive behaviors.\",\n",
    "         \"Ancient history covers the early development of human civilization, the formation of ancient states, and their cultural, religious, and philosophical achievements. Alexander the Great’s Conquests (334-323 BCE): Alexander expanded the Greek empire, conquering Persia, Egypt, and India, spreading Hellenistic culture. Formation of the Roman Empire (27 BCE): The Roman Empire controlled the Mediterranean world, deeply influencing law, governance, and culture. Medieval history spans the period between the ancient and modern eras, featuring feudalism, the influence of Christianity, European kingdoms, and the Crusades. Division of the Roman Empire (395 CE): The Roman Empire split into the Eastern (Byzantine Empire) and Western Roman Empires, shaping European and Middle Eastern history. Hundred Years’ War (1337-1453 CE): A century-long conflict between England and France, influencing political and military shifts, strengthening English monarchy and French national identity. Modern history focuses on the Industrial Revolution, the rise of democracy, imperialism, and World War I. Industrial Revolution (Late 18th Century): Originating in Britain, this period marked significant technological advancements, transforming economies and societies. French Revolution (1789): The French Revolution emphasized democracy and civil rights, inspiring revolutionary movements globally.\"]\n",
    "\n",
    "embedded_documents = passage_embeddings.embed_documents(chunk)\n",
    "\n",
    "len(embedded_documents)\n",
    "embedded_documents[0]"
   ]
  },
  {
   "cell_type": "code",
   "execution_count": 20,
   "metadata": {},
   "outputs": [],
   "source": [
    "import numpy as np\n",
    "\n",
    "for idx in range(len(topic)) : \n",
    "    np.save(data_path+f'topic_is/topic_is_{topic[idx]}', np.array(chunk[idx]))\n",
    "    np.save(data_path+f'topic_is/topic_is_{topic[idx]}_embed', np.array(embedded_documents[idx]))"
   ]
  },
  {
   "cell_type": "code",
   "execution_count": null,
   "metadata": {},
   "outputs": [],
   "source": []
  },
  {
   "cell_type": "code",
   "execution_count": null,
   "metadata": {},
   "outputs": [],
   "source": []
  }
 ],
 "metadata": {
  "colab": {
   "provenance": []
  },
  "kernelspec": {
   "display_name": "yoonnlp",
   "language": "python",
   "name": "python3"
  },
  "language_info": {
   "codemirror_mode": {
    "name": "ipython",
    "version": 3
   },
   "file_extension": ".py",
   "mimetype": "text/x-python",
   "name": "python",
   "nbconvert_exporter": "python",
   "pygments_lexer": "ipython3",
   "version": "3.10.15"
  }
 },
 "nbformat": 4,
 "nbformat_minor": 0
}
